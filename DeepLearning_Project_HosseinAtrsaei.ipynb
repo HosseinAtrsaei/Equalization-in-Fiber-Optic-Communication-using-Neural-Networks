{
  "nbformat": 4,
  "nbformat_minor": 0,
  "metadata": {
    "colab": {
      "provenance": [],
      "collapsed_sections": [
        "lsJakuuT8r9l",
        "OQy12sHCSvbb",
        "KeuxQKkWTQqD",
        "z44c1WVJTbLl",
        "YJUPwrb7S0F7",
        "yl4stbACS7qc",
        "JcFU2bkm--4o",
        "ycR-4gb7BxIR",
        "LhV3SfCar2Y4",
        "qyJlS-Uui7YY",
        "_baxuH7WjjCY",
        "lHb4biAqkTHS",
        "4AdXr-qVknTg",
        "3T9EUeP4_1oK",
        "E4yZLgq3r7vX",
        "OKex0w7OnCvt",
        "hhTNKQZnufZe",
        "e7O22FKy2Kn4",
        "BD346MKy2Neh",
        "_bE784yMsHF4",
        "GjX0Pe9Un1yP",
        "U5v-hX9ElVhX",
        "6DaQQApu6Mlf",
        "vmoHbq809vrw",
        "AcfZdIll9xeg",
        "gWJbtFu1YWte",
        "eui8VCvwBOYQ",
        "ypKphlzrnpSw",
        "RL9dk1zsubya",
        "CBTFeKX370fj",
        "Rkw2EOpV_DeP",
        "SlukMl4P_Nwk",
        "SLZOtmlC8NZo",
        "Uh70S941Anhr"
      ]
    },
    "kernelspec": {
      "name": "python3",
      "display_name": "Python 3"
    },
    "language_info": {
      "name": "python"
    }
  },
  "cells": [
    {
      "cell_type": "markdown",
      "source": [
        "**Hossein Atrsaei**\n",
        "\n",
        "**Deep Learning - Project**\n"
      ],
      "metadata": {
        "id": "cc5eOffeBL_j"
      }
    },
    {
      "cell_type": "code",
      "source": [
        "# Import Libraries\n",
        "import numpy as np\n",
        "import matplotlib.pyplot as plt\n",
        "import torch\n",
        "import torch.nn as nn\n",
        "import torch.optim as optim\n",
        "from torch.utils.data import TensorDataset, DataLoader\n",
        "import torch.nn.functional as F\n",
        "from sklearn.model_selection import train_test_split"
      ],
      "metadata": {
        "id": "JbaysgDlBqPP"
      },
      "execution_count": 1,
      "outputs": []
    },
    {
      "cell_type": "markdown",
      "source": [
        "# **Functions**"
      ],
      "metadata": {
        "id": "lsJakuuT8r9l"
      }
    },
    {
      "cell_type": "markdown",
      "source": [
        "## **Helper Functions**"
      ],
      "metadata": {
        "id": "OQy12sHCSvbb"
      }
    },
    {
      "cell_type": "markdown",
      "source": [
        "### **Binary to Decimal Converter**"
      ],
      "metadata": {
        "id": "KeuxQKkWTQqD"
      }
    },
    {
      "cell_type": "code",
      "source": [
        "def binary_to_decimal(binary_array):\n",
        "  \"\"\"\n",
        "  Convert a binary array to its decimal equivalent.\n",
        "\n",
        "  Parameters:\n",
        "  binary_array (numpy.ndarray or list): Binary array to be converted.\n",
        "\n",
        "  Returns:\n",
        "  numpy.ndarray or int: Decimal equivalent(s) of the binary number(s).\n",
        "  \"\"\"\n",
        "  binary_array = np.asarray(binary_array)  # Ensure input is a NumPy array\n",
        "\n",
        "  # Get the number of bits (columns)\n",
        "  num_bits = binary_array.shape[-1]\n",
        "  exponents = 2**np.arange(num_bits)[::-1]  # Powers of 2 in descending order\n",
        "\n",
        "  # Compute decimal values using matrix multiplication\n",
        "  decimal_values = binary_array @ exponents\n",
        "\n",
        "  return decimal_values if decimal_values.shape else int(decimal_values)  # Convert scalar to int"
      ],
      "metadata": {
        "id": "gNZN44l9TRbi"
      },
      "execution_count": 2,
      "outputs": []
    },
    {
      "cell_type": "markdown",
      "source": [
        "### **Grey Code Matrix Generator**"
      ],
      "metadata": {
        "id": "z44c1WVJTbLl"
      }
    },
    {
      "cell_type": "code",
      "source": [
        "def gray_code(flg_gray_encode, k):\n",
        "  \"\"\"\n",
        "  Generate a Gray code or binary code matrix of size 2^k x k.\n",
        "\n",
        "  Parameters:\n",
        "  flg_gray_encode (bool): Flag to determine if Gray coding is applied.\n",
        "                          True for Gray coding, False for binary coding.\n",
        "  k (int): Number of bits (code length).\n",
        "\n",
        "  Returns:\n",
        "  A (numpy.ndarray): Gray code or binary code matrix.\n",
        "  \"\"\"\n",
        "  # Initialize for 1-bit\n",
        "  A = np.array([[0], [1]])\n",
        "\n",
        "  for i in range(2, k + 1):\n",
        "    if flg_gray_encode:\n",
        "        # Append flipped rows for Gray encoding\n",
        "        A = np.vstack([\n",
        "            np.hstack([np.zeros((2**(i-1), 1), dtype=int), A]),\n",
        "            np.hstack([np.ones((2**(i-1), 1), dtype=int), np.flipud(A)])\n",
        "        ])\n",
        "    else:\n",
        "        # Append repeated rows for binary encoding\n",
        "        A = np.vstack([\n",
        "            np.hstack([np.zeros((2**(i-1), 1), dtype=int), A]),\n",
        "            np.hstack([np.ones((2**(i-1), 1), dtype=int), A])\n",
        "        ])\n",
        "\n",
        "  return A"
      ],
      "metadata": {
        "id": "YWWONLtrTabZ"
      },
      "execution_count": 3,
      "outputs": []
    },
    {
      "cell_type": "markdown",
      "source": [
        "### **Upsampling**"
      ],
      "metadata": {
        "id": "YJUPwrb7S0F7"
      }
    },
    {
      "cell_type": "code",
      "source": [
        "def upsample(signal, factor):\n",
        "  \"\"\"\n",
        "  Upsample a signal by inserting zeros between samples.\n",
        "\n",
        "  Parameters:\n",
        "  signal (ndarray): Input signal.\n",
        "  factor (int): Upsampling factor.\n",
        "\n",
        "  Returns:\n",
        "  ndarray: Upsampled signal.\n",
        "  \"\"\"\n",
        "  upsampled = np.zeros(len(signal) * factor, dtype=signal.dtype)\n",
        "  upsampled[::factor] = signal\n",
        "\n",
        "  return upsampled"
      ],
      "metadata": {
        "id": "3IwmoTlOTqwh"
      },
      "execution_count": 4,
      "outputs": []
    },
    {
      "cell_type": "markdown",
      "source": [
        "### **Discrete Fourier Transform (DFT) and Inverse DFT (IDFT)**"
      ],
      "metadata": {
        "id": "yl4stbACS7qc"
      }
    },
    {
      "cell_type": "code",
      "source": [
        "def dft_idft_matrix(N):\n",
        "  \"\"\"\n",
        "  Computes the NxN Discrete Fourier Transform (DFT) matrix.\n",
        "\n",
        "  Parameters\n",
        "  N (int): The size of the DFT matrix (must be a positive integer).\n",
        "\n",
        "  Returns\n",
        "  tuple: (D, D_inv)\n",
        "          D (ndarray, shape (N, N)): The DFT matrix.\n",
        "          D_inv (ndarray, shape (N, N)): The inverse DFT matrix (IDFT).\n",
        "  \"\"\"\n",
        "  # Create the indices m and n as column and row vectors\n",
        "  m, n = np.meshgrid(np.arange(N), np.arange(N))\n",
        "\n",
        "  # Compute the DFT matrix elements\n",
        "  omega = np.exp(-2j * np.pi / N)\n",
        "  D = omega ** (m * n)\n",
        "\n",
        "  # The inverse DFT matrix is the conjugate transpose of D divided by N\n",
        "  D_inv = np.conj(D.T) / N\n",
        "\n",
        "  return D, D_inv"
      ],
      "metadata": {
        "id": "rzo6zJjvSyLW"
      },
      "execution_count": 5,
      "outputs": []
    },
    {
      "cell_type": "markdown",
      "source": [
        "## **Plot Functions**"
      ],
      "metadata": {
        "id": "JcFU2bkm--4o"
      }
    },
    {
      "cell_type": "code",
      "source": [
        "def ber_plot(snr_db, ber, M, modulation, channel_mode):\n",
        "  \"\"\"\n",
        "  Plot BER vs. SNR.\n",
        "\n",
        "  Parameters:\n",
        "  snr_db (np.array): SNR values in dB.\n",
        "  ber (np.array): Bit error rates.\n",
        "  M (int): Modulation order.\n",
        "  modulation (str): Modulation scheme ('pam', 'psk', 'qam').\n",
        "  channel_mode (int): Channel mode (0 for fiber Channel in the absence of the\n",
        "                      nonlinearity, 1 for fiber channel with nonlinearity).\n",
        "  \"\"\"\n",
        "  if channel_mode == 0:\n",
        "    plt.figure()\n",
        "    plt.semilogy(snr_db, ber, label='Simulation BER')\n",
        "    plt.xlabel(r'$SNR$ [dB]')\n",
        "    plt.ylabel('Bit Error Rate')\n",
        "    plt.title(f'{M}-{modulation.upper()} Modulation (In Absense of Nonlinerity of the Fiber Channel)')\n",
        "    plt.grid(True, which='both')\n",
        "    plt.legend()\n",
        "    plt.show()\n",
        "    plt.figure()"
      ],
      "metadata": {
        "id": "GSiqEhoD787D"
      },
      "execution_count": 6,
      "outputs": []
    },
    {
      "cell_type": "code",
      "source": [
        "def cons_plot(cons, M, modulation, *args):\n",
        "  \"\"\"\n",
        "  Plot the constellation diagram.\n",
        "\n",
        "  Parameters:\n",
        "  cons (np.array): Constellation points.\n",
        "  M (int): Modulation order.\n",
        "  modulation (str): Modulation scheme ('pam', 'psk', 'qam').\n",
        "  *args: Optional arguments for detected symbols:\n",
        "          rx_sym (np.array): Received symbols.\n",
        "  \"\"\"\n",
        "  if len(args) == 1:\n",
        "    det_sym = args[0]\n",
        "    plt.scatter(rx_sym.real, rx_sym.imag, color='red', alpha=0.7)\n",
        "    plt.scatter(cons.real, cons.imag, color='blue', alpha=0.7)\n",
        "    plt.legend(['Detected Symbols', 'Constellation'])\n",
        "  else:\n",
        "    plt.scatter(cons.real, cons.imag, color='blue', alpha=0.7)\n",
        "  plt.title(f\"Constellation Diagram ({M}-{modulation.upper()})\")\n",
        "  plt.xlabel(\"In-Phase\")\n",
        "  plt.ylabel(\"Quadrature\")\n",
        "  plt.grid(True)\n",
        "  plt.axis('equal')"
      ],
      "metadata": {
        "id": "wcjJd1Ty_g1x"
      },
      "execution_count": 7,
      "outputs": []
    },
    {
      "cell_type": "markdown",
      "source": [
        "## **Communication System Functions**"
      ],
      "metadata": {
        "id": "ycR-4gb7BxIR"
      }
    },
    {
      "cell_type": "markdown",
      "source": [
        "### **Transmitter**"
      ],
      "metadata": {
        "id": "LhV3SfCar2Y4"
      }
    },
    {
      "cell_type": "markdown",
      "source": [
        "#### **Bit Generator**"
      ],
      "metadata": {
        "id": "qyJlS-Uui7YY"
      }
    },
    {
      "cell_type": "code",
      "source": [
        "def bit_gen(pkt_size, k, p=0.5):\n",
        "  \"\"\"\n",
        "  Generate a matrix of bits with dimensions pkt_size x k,\n",
        "  where each bit is 1 with probability p and 0 with probability 1-p.\n",
        "\n",
        "  Parameters:\n",
        "  pkt_size (int): Number of rows (packet size).\n",
        "  k (int): Number of columns.\n",
        "  p (float): Probability of a bit being 1 (default is 0.5).\n",
        "\n",
        "  Returns:\n",
        "  numpy.ndarray: Matrix of generated bits.\n",
        "  \"\"\"\n",
        "  return (np.random.rand(pkt_size, k) < p).astype(int)"
      ],
      "metadata": {
        "id": "5mJR9KXGJpEP"
      },
      "execution_count": 8,
      "outputs": []
    },
    {
      "cell_type": "markdown",
      "source": [
        "#### **Bits to Symbol Mapping**"
      ],
      "metadata": {
        "id": "_baxuH7WjjCY"
      }
    },
    {
      "cell_type": "code",
      "source": [
        "def constellation(M, modulation, target_energy):\n",
        "  \"\"\"\n",
        "  Generate the constellation points for a given modulation scheme, normalized\n",
        "  to a target average energy.\n",
        "\n",
        "  Parameters:\n",
        "  M (int): Modulation order (number of symbols).\n",
        "  modulation (str): Modulation scheme ('pam', 'psk', 'qam').\n",
        "  target_energy (float): Desired average energy for the constellation.\n",
        "\n",
        "  Returns:\n",
        "  tuple: (cons, Es_avg)\n",
        "          cons (numpy.ndarray): Constellation points.\n",
        "          Es_avg (float): Average energy of the generated constellation.\n",
        "  \"\"\"\n",
        "  modulation = modulation.lower()\n",
        "\n",
        "  if modulation == 'pam':\n",
        "      cons = np.arange(-(M-1), M, 2).reshape(-1, 1)\n",
        "      Es_avg = np.mean(np.abs(cons)**2)\n",
        "      cons = cons / np.sqrt(Es_avg / target_energy)\n",
        "      return cons.flatten(), target_energy\n",
        "\n",
        "  elif modulation == 'psk':\n",
        "      cons = np.exp(1j * 2 * np.pi * np.arange(M) / M)\n",
        "      Es_avg = np.mean(np.abs(cons)**2)\n",
        "      cons = cons / np.sqrt(Es_avg / target_energy)\n",
        "      return cons.flatten(), target_energy\n",
        "\n",
        "  elif modulation == 'qam':\n",
        "    if M == 8:\n",
        "      # Circular 8-QAM constellation\n",
        "      r_inner = 1  # Inner circle radius\n",
        "      r_outer = 1 + np.sqrt(3)  # Outer circle radius\n",
        "\n",
        "      # Define angles for 8 evenly spaced points\n",
        "      angles = np.array([0, np.pi/2, np.pi, 3*np.pi/2])  # 4 points per circle\n",
        "\n",
        "      # Generate inner and outer constellation points\n",
        "      inner_circle = r_inner * np.exp(1j * (angles + np.pi/4))  # 45-degree rotated points\n",
        "      outer_circle = r_outer * np.exp(1j * angles)  # Aligned with axes\n",
        "\n",
        "      # Combine both sets of points\n",
        "      cons = np.concatenate((inner_circle, outer_circle))\n",
        "      cons = cons.flatten()  # Flatten the grid into a 1D array\n",
        "\n",
        "    else:\n",
        "      m = int(np.sqrt(M))  # Assume square QAM\n",
        "\n",
        "      if m**2 == M:\n",
        "        # Generate PAM constellation for each dimension\n",
        "        pam_points = np.arange(-(m-1), m, 2)\n",
        "        x, y = np.meshgrid(pam_points, pam_points)\n",
        "        cons = x + 1j * y\n",
        "        cons = cons.flatten()  # Flatten the grid into a 1D array\n",
        "\n",
        "      else:\n",
        "        # Deterministic Cross-QAM constellation\n",
        "        m = np.ceil(m)\n",
        "        extra_points = m ** 2 - M\n",
        "        while extra_points % 4 != 0:\n",
        "          m += 1\n",
        "          extra_points = m ** 2 - M\n",
        "\n",
        "        # Generate PAM constellation for each dimension\n",
        "        pam_points = np.arange(-(m-1), m, 2)\n",
        "        x, y = np.meshgrid(pam_points, pam_points)\n",
        "        cons = x + 1j * y\n",
        "\n",
        "\n",
        "        # Remove extra points\n",
        "        num_corner_points = int(np.sqrt(extra_points) // 2)  # Half for each quadrant\n",
        "\n",
        "        for i in range(num_corner_points):\n",
        "          for j in range(num_corner_points):\n",
        "            cons[i, j] = np.nan  # Top-left\n",
        "            cons[i, -j-1] = np.nan  # Top-right\n",
        "            cons[-i-1, j] = np.nan  # Bottom-left\n",
        "            cons[-i-1, -j-1] = np.nan  # Bottom-right\n",
        "\n",
        "        cons = cons.flatten()  # Flatten the grid into a 1D array\n",
        "        cons = cons[~np.isnan(cons)]  # Remove NaN values\n",
        "\n",
        "    Es_avg = np.mean(np.abs(cons)**2)\n",
        "    cons = cons / np.sqrt(Es_avg / target_energy)\n",
        "\n",
        "  else:\n",
        "      raise ValueError(\"Unsupported modulation type. Choose 'pam', 'psk', or 'qam'.\")\n",
        "\n",
        "  return cons, Es_avg"
      ],
      "metadata": {
        "id": "mMoE2Hw0SZZU"
      },
      "execution_count": 9,
      "outputs": []
    },
    {
      "cell_type": "code",
      "source": [
        "def bit_to_symbol_mapping(b_tx, b_gray, M, modulation, target_energy):\n",
        "  \"\"\"\n",
        "  Map binary sequences to symbol indices using Gray code.\n",
        "\n",
        "  Parameters:\n",
        "  b_tx (ndarray): Binary transmission packet (2D array of bits, shape: [num_symbols, bits_per_symbol]).\n",
        "  b_gray (ndarray): Gray code matrix (2D array of bits, shape: [M, bits_per_symbol]).\n",
        "  M (int): Modulation order (number of symbols).\n",
        "  modulation (str): Modulation scheme ('pam', 'psk', 'qam').\n",
        "  target_energy (float): Target average energy for the constellation.\n",
        "\n",
        "  Returns:\n",
        "  tuple: (sym_idx, mod_sym, cons)\n",
        "          sym_idx (ndarray): Indices of transmitted symbols.\n",
        "          mod_sym (ndarray): Transmitted symbols.\n",
        "          cons (ndarray): Constellation points.\n",
        "  \"\"\"\n",
        "  # Convert binary arrays to integers for comparison\n",
        "  b_tx_int = binary_to_decimal(b_tx)\n",
        "  b_gray_int = binary_to_decimal(b_gray)\n",
        "\n",
        "  # Map each binary sequence in b_tx to the Gray code index\n",
        "  sym_idx = np.array([np.argmin(np.abs(b_tx_int[i] - b_gray_int)) for i in range(len(b_tx))])\n",
        "\n",
        "  # Generate the constellation points\n",
        "  cons, _ = constellation(M, modulation, target_energy)\n",
        "  mod_sym = cons[np.array(sym_idx)]\n",
        "\n",
        "  return sym_idx, mod_sym, cons"
      ],
      "metadata": {
        "id": "eykCQVYYuQoq"
      },
      "execution_count": 10,
      "outputs": []
    },
    {
      "cell_type": "markdown",
      "source": [
        "#### **Symbol to Signal Mapping (Pulse Shaping)**"
      ],
      "metadata": {
        "id": "lHb4biAqkTHS"
      }
    },
    {
      "cell_type": "code",
      "source": [
        "def pulse_shape(pulse_name, fs, smpl_per_symbl, M, *args):\n",
        "  \"\"\"\n",
        "  Generate pulse shapes for various modulation schemes).\n",
        "\n",
        "  Parameters:\n",
        "  pulse_name (str): Name of the pulse ('rectangular', 'triangular', 'sine',\n",
        "                    'raised_cosine', 'root_raised_cosine').\n",
        "  fs (float): Baseband sampling frequency.\n",
        "  smpl_per_symbl (int): Samples per symbol.\n",
        "  M (int): Modulation order (e.g., 2 for BPSK, 4 for QPSK, 16 for 16-QAM, etc.).\n",
        "  *args: Optional arguments for advanced pulses:\n",
        "          beta (float): Roll-off factor for raised cosine and root raised cosine.\n",
        "          span_in_symbl (int): Time span in symbols for truncating the pulse.\n",
        "\n",
        "  Returns:\n",
        "  tuple: (pulse, time_vector, Rs, Rb)\n",
        "          pulse: The generated pulse shape.\n",
        "          time_vector: Time vector for the pulse.\n",
        "  \"\"\"\n",
        "  ts = 1 / fs  # Baseband Sampling Period\n",
        "  Ts = smpl_per_symbl * ts  # Symbol Duration\n",
        "  pulse_name = pulse_name.lower()\n",
        "\n",
        "  if len(args) == 0:  # For basic pulses\n",
        "    t = np.arange(0, smpl_per_symbl) * ts\n",
        "    if pulse_name == 'rectangular':\n",
        "      p = np.ones_like(t) / np.sqrt(Ts)\n",
        "    elif pulse_name == 'triangular':\n",
        "      p = np.maximum(Ts/2-abs(t - Ts/2) ,0) / np.sqrt(Ts)\n",
        "    elif pulse_name == 'sine':\n",
        "      p = np.sin(np.pi * t / Ts) / np.sqrt(Ts)\n",
        "    else:\n",
        "      raise ValueError(\"Invalid pulse name for basic pulses.\")\n",
        "\n",
        "  elif len(args) == 2:  # For advanced pulses\n",
        "    beta_ = args[0]\n",
        "    span_in_symbl_ = args[1]\n",
        "    t = np.linspace(-span_in_symbl_ * Ts / 2, span_in_symbl_ * Ts / 2, span_in_symbl_ * smpl_per_symbl)\n",
        "    if pulse_name == 'raised_cosine':\n",
        "      p = np.sinc(t / Ts) * np.cos(np.pi * beta_ * t / Ts) / (1 - (2 * beta_ * t / Ts) ** 2)\n",
        "      p[np.abs(1 - (2 * beta_ * t / Ts) ** 2) < 1e-10] = (\n",
        "          np.pi / 4 * np.sinc(1 / (2 * beta_))\n",
        "      )\n",
        "    elif pulse_name == 'root_raised_cosine':\n",
        "      p = (\n",
        "          (np.sin(np.pi * t / Ts * (1 - beta_)) +\n",
        "            4 * beta_ * t / Ts * np.cos(np.pi * t / Ts * (1 + beta_))) /\n",
        "          ((np.pi * t / Ts) * (1 - (4 * beta_ * t / Ts) ** 2))\n",
        "      )\n",
        "      p[np.abs(t) < 1e-10] = (1 - beta_ + 4 * beta_ / np.pi) / np.sqrt(Ts)\n",
        "      p[np.abs(np.abs(t) - Ts / (4 * beta_)) < 1e-10] = (\n",
        "          beta_ / np.sqrt(2 * Ts) *\n",
        "          ((1 + 2 / np.pi) * np.sin(np.pi / (4 * beta_)) + (1 - 2 / np.pi) * np.cos(np.pi / (4 * beta_)))\n",
        "      )\n",
        "    else:\n",
        "      raise ValueError(\"Invalid pulse name for advanced pulses.\")\n",
        "  else:\n",
        "    raise ValueError(\"Incorrect number of arguments provided.\")\n",
        "\n",
        "  # Normalize the pulse energy to make it unit energy\n",
        "  p = p / np.sqrt(np.sum(p**2))\n",
        "\n",
        "  return p, t"
      ],
      "metadata": {
        "id": "xVRCamfveI2Z"
      },
      "execution_count": 11,
      "outputs": []
    },
    {
      "cell_type": "markdown",
      "source": [
        "#### **Pulse Modulation**"
      ],
      "metadata": {
        "id": "4AdXr-qVknTg"
      }
    },
    {
      "cell_type": "code",
      "source": [
        "def signal_characteristics(pulse_name, fs, smpl_per_symbl, M, *args):\n",
        "  \"\"\"\n",
        "  Calculate the bandwidth, symbol rate and bit rate.\n",
        "  Parameters:\n",
        "  pulse_name (str): Name of the pulse ('rectangular', 'triangular', 'sine',\n",
        "                    'raised_cosine', 'root_raised_cosine').\n",
        "  fs (float): Baseband sampling frequency.\n",
        "  smpl_per_symbl (int): Samples per symbol.\n",
        "  M (int): Modulation order\n",
        "  *args: Optional arguments for advanced pulses:\n",
        "          beta (float): Roll-off factor for raised cosine and root raised cosine.\n",
        "\n",
        "  Returns:\n",
        "  tuple: (Rs, Rb, BW)\n",
        "          Rs: Symbol rate (symbols per second).\n",
        "          Rb: Bit rate (bits per second).\n",
        "          BW: Bandwidth (Hz).\n",
        "  \"\"\"\n",
        "  # Calculate symbol rate (Rs) and bit rate (Rb)\n",
        "  Rs = fs / smpl_per_symbl  # Symbol rate (symbols per second)\n",
        "  Rb = Rs * np.log2(M)  # Bit rate (bits per second)\n",
        "  if len(args) == 1:  # For advanced pulses\n",
        "    beta_ = args[0]\n",
        "    # Calculate bandwidth (Hz)\n",
        "    BW = fs * (1 + beta_)\n",
        "\n",
        "  elif len(args) == 0:  # For basic pulses\n",
        "    # Calculate bandwidth (Hz)\n",
        "    BW = fs\n",
        "\n",
        "  else:\n",
        "    raise ValueError(\"Incorrect number of arguments provided.\")\n",
        "\n",
        "  return Rs, Rb, BW"
      ],
      "metadata": {
        "id": "PqK5jSmTv7Jo"
      },
      "execution_count": 12,
      "outputs": []
    },
    {
      "cell_type": "code",
      "source": [
        "def pulse_modulation(mod_sym, modulation, M, fs, smpl_per_symbl, pulse_name, pulse_shape_mode, target_energy,  *args):\n",
        "  \"\"\"\n",
        "  Perform pulse modulation for a given sequence of symbols using manual\n",
        "  upsampling and pulse shaping.\n",
        "\n",
        "  Parameters:\n",
        "  sym_idx (list or ndarray): Indices of symbols to modulate.\n",
        "  modulation (str): Modulation scheme ('pam', 'psk', 'qam').\n",
        "  M (int): Modulation order.\n",
        "  fs (float): Sampling frequency.\n",
        "  smpl_per_symbl (int): Samples per symbol.\n",
        "  pulse_name (str): Pulse shape name ('rectangular', 'triangular', 'sine',\n",
        "                    'raised_cosine', 'root_raised_cosine').\n",
        "  pulse_shape_mode (str): Mode of pulse shaping ('kron' or 'conv').\n",
        "  target_energy (float): Target energy for the constellation.\n",
        "  *args: Optional arguments for advanced pulse shapes:\n",
        "          beta (float): Roll-off factor.\n",
        "          span_in_symbl (int): Truncated interval of pulse.\n",
        "\n",
        "  Returns:\n",
        "  tuple: (tx_smpl, p)\n",
        "          tx_smpl: Transmitted signal samples.\n",
        "          p: Pulse shape.\n",
        "  \"\"\"\n",
        "\n",
        "  pulse_name = pulse_name.lower()\n",
        "  pulse_shape_mode = pulse_shape_mode.lower()\n",
        "\n",
        "  # Generate the pulse shape\n",
        "  if len(args) == 2:  # For advanced pulses\n",
        "    beta_ = args[0]\n",
        "    span_in_symbl_ = args[1]\n",
        "    p, _, = pulse_shape(pulse_name, fs, smpl_per_symbl, M, beta_, span_in_symbl_)\n",
        "\n",
        "  elif len(args) == 0:  # For basic pulses\n",
        "    # Calculate bandwidth (Hz)\n",
        "    p, _ = pulse_shape(pulse_name, fs, smpl_per_symbl, M)\n",
        "\n",
        "  # Perform pulse shaping\n",
        "  if pulse_shape_mode == 'kron':\n",
        "    tx_smpl = np.kron(mod_sym, p)\n",
        "  elif pulse_shape_mode == 'conv':\n",
        "    # Step 1: Upsample the symbols\n",
        "    mod_sym_upsample = upsample(mod_sym, smpl_per_symbl)\n",
        "\n",
        "    # Step 2: Convolve with the pulse shape\n",
        "    tx_smpl = np.convolve(mod_sym_upsample[:-(smpl_per_symbl - 1)], p, mode='full')\n",
        "\n",
        "  else:\n",
        "    raise ValueError(\"Invalid pulse shaping mode. Choose 'kron' or 'conv'.\")\n",
        "\n",
        "  return tx_smpl, p"
      ],
      "metadata": {
        "id": "NLRyLYj4i4qG"
      },
      "execution_count": 13,
      "outputs": []
    },
    {
      "cell_type": "markdown",
      "source": [
        "#### **Transmiter**"
      ],
      "metadata": {
        "id": "3T9EUeP4_1oK"
      }
    },
    {
      "cell_type": "code",
      "source": [
        "def transmitter(pkt_size, k, M, flg_gray_encode, modulation, pulse_name, signal_power,\n",
        "                fs, smpl_per_symbl, span_in_symbl, beta, plot_mode):\n",
        "  \"\"\"\n",
        "  Implementation of the transmitter.\n",
        "  Parameters:\n",
        "  pkt_size (int): Packet size in bits.\n",
        "  k (int): Bits per symbol.\n",
        "  M (int): Modulation order.\n",
        "  flg_gray_encode (int): Flag for gray code encoding.\n",
        "  modulation (str): Modulation scheme ('pam', 'psk', 'qam').\n",
        "  pulse_name (str): Name of the pulse shaping filter ('rectangular', 'triangular', 'sine', 'raised_cosine', 'root_raised_cosine').\n",
        "  signal_power (float): Target signal power.\n",
        "  fs (float): Sampling frequency.\n",
        "  smpl_per_symbl (int): Number of samples per symbol.\n",
        "  span_in_symbl (int): Time span in symbols for pulse shaping filter truncation.\n",
        "  beta (float): Roll-off factor for raised cosine and root raised cosine filters.\n",
        "  plot_mode (int): Flag for plotting.\n",
        "  Returns:\n",
        "  tuple: (tx_smpl, sym_idx, b_tx, b_gray, BW, p, cons)\n",
        "          tx_smpl: Transmitted signal samples.\n",
        "          sym_idx: Indices of transmitted symbols.\n",
        "  \"\"\"\n",
        "  # Step 1: Generate the binary transmission packet\n",
        "  b_tx = bit_gen(pkt_size, k)\n",
        "\n",
        "  # Step 2: Generate the Gray code\n",
        "  b_gray = gray_code(flg_gray_encode, k)\n",
        "\n",
        "  # Step 3: Map binary sequences to symbols\n",
        "  sym_idx, mod_sym, cons = bit_to_symbol_mapping(b_tx, b_gray, M, modulation, signal_power)\n",
        "\n",
        "  # Step 4: Perform pulse modulation\n",
        "  Rs, Rb, BW = signal_characteristics(pulse_name, fs, smpl_per_symbl, M, beta)\n",
        "  if pulse_name in ['rectangular', 'triangular', 'sine']:\n",
        "    tx_smpl, p = pulse_modulation(mod_sym, modulation, M, fs, smpl_per_symbl, pulse_name, 'conv', signal_power)\n",
        "  else:\n",
        "    tx_smpl, p = pulse_modulation(mod_sym, modulation, M, fs, smpl_per_symbl, pulse_name, 'conv', signal_power, beta, span_in_symbl)\n",
        "\n",
        "  if plot_mode == 1:\n",
        "    # Create time and frequency vectors\n",
        "    time_vector = np.linspace(0, len(tx_smpl) / fs, len(tx_smpl), endpoint=False)\n",
        "    freq_vector = (fs / len(tx_smpl)) * np.arange(-len(tx_smpl)/2, len(tx_smpl)/2)\n",
        "    spectrum = np.fft.fftshift(np.fft.fft(tx_smpl))\n",
        "\n",
        "\n",
        "    # Plot constellation and signals\n",
        "    plt.figure(figsize=(12, 4))\n",
        "\n",
        "    # Constellation plot\n",
        "    plt.subplot(1, 3, 1)\n",
        "    cons_plot(cons, M, modulation)\n",
        "    # Convert Gray code matrix to string labels\n",
        "    gray_labels = [''.join(map(str, row)) for row in b_gray]\n",
        "\n",
        "    # Annotate each constellation point with its corresponding Gray code\n",
        "    text_offset = 0.2 * np.max(np.abs(cons.imag))  # Adjust the offset based on the constellation size\n",
        "    for i, (x, y) in enumerate(zip(cons.real, cons.imag)):\n",
        "      plt.text(x, y - text_offset, gray_labels[i], fontsize=9, ha='center', va='bottom',\n",
        "                bbox=dict(facecolor='white', edgecolor='black', boxstyle='round,pad=0.3'))\n",
        "\n",
        "    # Time-domain signal\n",
        "    plt.subplot(1, 3, 2)\n",
        "    plt.plot(time_vector[:200], tx_smpl[:200], color='red')\n",
        "    plt.title(\"Modulated Signal in Time Domain\")\n",
        "    plt.xlabel(\"Time (s)\")\n",
        "    plt.ylabel(\"Amplitude\")\n",
        "    plt.grid(True)\n",
        "\n",
        "    # Frequency-domain signal\n",
        "    plt.subplot(1, 3, 3)\n",
        "    plt.plot(np.fft.fftshift(freq_vector) / 1e6, np.fft.fftshift(spectrum), color='green')\n",
        "    plt.title(\"Modulated Signal in Frequency Domain\")\n",
        "    plt.xlabel(\"Frequency (MHz)\")\n",
        "    plt.ylabel(\"Amplitude\")\n",
        "    plt.grid(True)\n",
        "\n",
        "    plt.tight_layout()\n",
        "    plt.show()\n",
        "\n",
        "    print(f\"  - Symbol Rate (Rs): {Rs:.2e} symbols/sec\")\n",
        "    print(f\"  - Bit Rate (Rb): {Rb:.2e} bits/sec\")\n",
        "    print(f\"  - Bandwidth (BW): {BW:.2e} Hz\")\n",
        "\n",
        "  return tx_smpl, sym_idx, b_tx, b_gray, BW, p, cons"
      ],
      "metadata": {
        "id": "5slFsLPb_79e"
      },
      "execution_count": 14,
      "outputs": []
    },
    {
      "cell_type": "markdown",
      "source": [
        "### **Channel Model**"
      ],
      "metadata": {
        "id": "E4yZLgq3r7vX"
      }
    },
    {
      "cell_type": "markdown",
      "source": [
        "#### **Fiber-Optic Channel**"
      ],
      "metadata": {
        "id": "OKex0w7OnCvt"
      }
    },
    {
      "cell_type": "code",
      "source": [
        "def noise_gen(sigma2, B, N, z):\n",
        "  \"\"\"\n",
        "  Generate complex white Gaussian noise.\n",
        "\n",
        "  Parameters:\n",
        "  sigma2 (float): Noise power spectral density (W·s/m).\n",
        "  B (float): Noise bandwidth (Hz)\n",
        "  N (int): Number of samples\n",
        "  z (float): Propagation distance in m.\n",
        "  L (float): Fiber length in m.\n",
        "  Returns:\n",
        "  tuple: (noiseF, total_noise_power)\n",
        "          noiseF: Complex white Gaussian noise in frequency domain.\n",
        "          total_noise_power: Total noise power integrated over bandwidth B and distance z.\n",
        "  \"\"\"\n",
        "\n",
        "  # Compute total noise power in the given fiber segment\n",
        "  total_noise_power = sigma2 * B * z  # Power integrated over bandwidth B and distance z\n",
        "\n",
        "  # Generate complex white Gaussian noise in frequency domain\n",
        "  noise = np.sqrt(total_noise_power/2) * (np.random.randn(N) + 1j*np.random.randn(N))\n",
        "\n",
        "  return noise, total_noise_power"
      ],
      "metadata": {
        "id": "Ok4pQzEmgr2t"
      },
      "execution_count": 15,
      "outputs": []
    },
    {
      "cell_type": "code",
      "source": [
        "def nnet_gen(x, z, sigma2, B, fs, nz=100):\n",
        "  \"\"\"\n",
        "  Implements the generative neural network to simulate the optical channel.\n",
        "\n",
        "  Parameters:\n",
        "  x (ndarray): Input signal.\n",
        "  z (float): Propagation distance in m.\n",
        "  L (float): Fiber length in m.\n",
        "  sigma2 (float): Noise power spectral density (W·s/m).\n",
        "  B (float): Noise bandwidth (Hz).\n",
        "  fs (float): Sampling frequency.\n",
        "  nz (int): Number of layers.\n",
        "\n",
        "  Returns:\n",
        "  ndarray: Output signal.\n",
        "  \"\"\"\n",
        "  def activation_gen(x, epsilon):\n",
        "    \"\"\"\n",
        "    Activation function for the neural network.\n",
        "\n",
        "    Parameters:\n",
        "    x (ndarray): Input signal.\n",
        "    epsilon (float): Parameter for the activation function.\n",
        "\n",
        "    Returns:\n",
        "    ndarray: Output signal after applying the activation function.\n",
        "    \"\"\"\n",
        "    return x * np.exp(-2 * 1j * epsilon * np.linalg.norm(x)**2)\n",
        "\n",
        "  N = len(x) # Number of time samples\n",
        "  dz = z / nz # Z differential\n",
        "  f = np.fft.fftfreq(N, d=1 / fs) # Frequency vector\n",
        "  w = 2 * np.pi * f # Angular frequency\n",
        "  H = np.exp(1j * w**2 * dz); # All-pass filter\n",
        "  D, D_inv = dft_idft_matrix(N) # DFT matrices\n",
        "  W = D_inv @ np.diag(H) @ D\n",
        "  for _ in range(nz):\n",
        "    V = W @ x\n",
        "    U = activation_gen(x, dz)\n",
        "    noise, _ = noise_gen(sigma2, B, N, dz)\n",
        "    x = U + noise\n",
        "  y = x\n",
        "  return y"
      ],
      "metadata": {
        "id": "ME35KnHIjQPT"
      },
      "execution_count": 16,
      "outputs": []
    },
    {
      "cell_type": "code",
      "source": [
        "def channel(x0t, z, sigma2, B, fs, channel_mode):\n",
        "  \"\"\"\n",
        "  Simulate the propagation of an optical signal over a fiber channel with\n",
        "  additive bandlimited noise.\n",
        "\n",
        "  Parameters:\n",
        "  x0t (ndarray): Initial signal (time domain) at the transmitter.\n",
        "  z (float): Propagation distance in km.\n",
        "  sigma2 (float): Noise power spectral density (W·s/km).\n",
        "  B (float): Noise bandwidth (Hz).\n",
        "  fs (float): Sampling frequency.\n",
        "  channel_mode (int): Channel mode (0 for fiber Channel in the absence of the\n",
        "                      nonlinearity, 1 for fiber channel with nonlinearity).\n",
        "\n",
        "  Returns:\n",
        "  tuple: (xzt, xzf, total_noise_power)\n",
        "          xzt: Noisy signal at receiver (time domain).\n",
        "          xzf: Noisy signal at receiver (frequency domain).\n",
        "    \"\"\"\n",
        "\n",
        "  if channel_mode == 0:\n",
        "    N   = x0t.size  # Number of time samples\n",
        "    f = np.fft.fftshift(np.fft.fftfreq(N, d=1 / fs)) # Create frequency vector\n",
        "\n",
        "    x0f = np.fft.fftshift(np.fft.fft(x0t)) # Input in frequency domain\n",
        "    H = np.exp((1j * (2*np.pi*f)** 2 * z)) # Channel frequency response\n",
        "    xzf = x0f * H # Output in frequency domain\n",
        "\n",
        "    # Generate complex white Gaussian noise in frequency domain\n",
        "    noise, total_noise_power = noise_gen(sigma2, B, N, z)\n",
        "\n",
        "    # Add noise to the signal\n",
        "    xzt = np.fft.ifft(np.fft.ifftshift(xzf)) + noise\n",
        "\n",
        "  elif channel_mode == 1:\n",
        "    # Received noisy signal in time domain\n",
        "    xzt = nnet_gen(x0t, z, sigma2, B, fs)\n",
        "    # Received noisy signal in frequency domain\n",
        "    xzf = np.fft.fft(xzt)\n",
        "\n",
        "  return xzt, xzf"
      ],
      "metadata": {
        "id": "kG6Q0vqBnCSO"
      },
      "execution_count": 17,
      "outputs": []
    },
    {
      "cell_type": "markdown",
      "source": [
        "#### **Equalization**"
      ],
      "metadata": {
        "id": "hhTNKQZnufZe"
      }
    },
    {
      "cell_type": "markdown",
      "source": [
        "##### **Linear Equalization**"
      ],
      "metadata": {
        "id": "e7O22FKy2Kn4"
      }
    },
    {
      "cell_type": "code",
      "source": [
        "def linear_equalization(xzt, z, fs, channel_mode):\n",
        "  \"\"\"\n",
        "  Perform channel equalization.\n",
        "\n",
        "  Parameters:\n",
        "  xzt (ndarray): Noisy signal at receiver (time domain).\n",
        "  z (float): Propagation distance in km.\n",
        "  sigma2 (float): Noise power spectral density (W·s/m).\n",
        "  B (float): Noise bandwidth (Hz).\n",
        "  fs (float): Sampling frequency.\n",
        "  channel_mode (int): Channel mode (0 for fiber Channel in the absence of the\n",
        "                      nonlinearity, 1 for fiber channel with nonlinearity).\n",
        "\n",
        "  Returns:\n",
        "  tuple: (qzte, qzfe)\n",
        "          qzte: Noisy signal at receiver after equalization (time domain).\n",
        "          qzfe: Noisy signal at receiver after equalization (frequency domain).\n",
        "  \"\"\"\n",
        "  if channel_mode == 0:\n",
        "    N   = xzt.size  # Number of time samples\n",
        "    f = np.fft.fftshift(np.fft.fftfreq(N, d=1 / fs)) # Create frequency vector\n",
        "\n",
        "    H = np.exp((1j * (2*np.pi*f)** 2 * z)) # Channel frequency response\n",
        "    xzf = np.fft.fftshift(np.fft.fft(xzt)) # Input in frequency domain\n",
        "    xzfe = xzf * (1/H) # Output in frequency domain\n",
        "    xzte = np.fft.ifft(np.fft.ifftshift(xzfe)) # Output in frequency domain\n",
        "\n",
        "    return xzte, xzfe\n",
        "  else:\n",
        "    raise ValueError(\"This equalization method only works in absense of non linearity.\")\n"
      ],
      "metadata": {
        "id": "o0bE-xX5ujn1"
      },
      "execution_count": 18,
      "outputs": []
    },
    {
      "cell_type": "markdown",
      "source": [
        "##### **Non-Linear Equalization (Predictive Neural Network)**"
      ],
      "metadata": {
        "id": "BD346MKy2Neh"
      }
    },
    {
      "cell_type": "markdown",
      "source": [
        "###### **Convolutional-Fully Connected Equalizer**"
      ],
      "metadata": {
        "id": "cTYQF-km2X9Q"
      }
    },
    {
      "cell_type": "code",
      "source": [
        "def dataset_generation(snr, data_samples, block_size, k, M, flg_gray_encode, modulation, pulse_name,\n",
        "                       fs, smpl_per_symbl, span_in_symbl, beta, sigma2, channel_mode,\n",
        "                       signal_power = 1, plot_mode = 0, z = 1, B = 1):\n",
        "  \"\"\"\n",
        "  Prepares training data for the NN equalizer.\n",
        "\n",
        "  Parameters:\n",
        "  snr (float): Signal-to-noise ratio in dB.\n",
        "  data_samples (int): Total number of data samples.\n",
        "  block_size (int): Number of symbols per block.\n",
        "  k (int): Number of bits per symbol.\n",
        "  M (int): Modulation order.\n",
        "  flg_gray_encode (int): Flag for Gray code encoding (0: off, 1: on).\n",
        "  modulation (str): Modulation scheme ('pam', 'psk', 'qam').\n",
        "  pulse_name (str): Name of the pulse shaping filter ('rectangular', 'triangular', 'sine', 'raised_cosine', 'root_raised_cosine').\n",
        "  fs (float): Sampling frequency.\n",
        "  smpl_per_symbl (int): Number of samples per symbol.\n",
        "  span_in_symbl (int): Time span in symbols for pulse shaping filter truncation.\n",
        "  beta (float): Roll-off factor for raised cosine and root raised cosine filters.\n",
        "  sigma2 (float): Noise power spectral density (W·s/m).\n",
        "  channel_mode (int): Identifier for the channel mode.\n",
        "  signal_power (float, optional): Target signal power (default is 1). This value is updated based on the SNR and noise variance.\n",
        "  plot_mode (int, optional): Flag for enabling plotting (default is 0).\n",
        "  z (int): Normalized propagation distance.\n",
        "  B (int): Normalized Channel bandwidth.\n",
        "\n",
        "  Returns:\n",
        "  tuple: (b, s, y)\n",
        "          b (numpy.ndarray): Array of transmitted bits (each block flattened to a 1D vector).\n",
        "          s (numpy.ndarray): Array of transmitted symbols for each block.\n",
        "          y (numpy.ndarray): Array of received signal samples after passing through the channel.\n",
        "  \"\"\"\n",
        "  num_blocks = int(data_samples // block_size)\n",
        "  snr_lin = 10 ** (snr / 10)\n",
        "  total_noise_power = sigma2\n",
        "  signal_power = snr_lin * total_noise_power\n",
        "  y = []\n",
        "  s = []\n",
        "  b = []\n",
        "\n",
        "  for _ in range(num_blocks):\n",
        "    tx_smpl, sym_idx, b_tx, b_gray, BW, p, cons = transmitter(block_size, k, M, flg_gray_encode, modulation, pulse_name, signal_power,\n",
        "                fs, smpl_per_symbl, span_in_symbl, beta, plot_mode = 0)\n",
        "    s.append(cons[sym_idx])\n",
        "    b.append(b_tx.reshape(-1))\n",
        "    xzt, xzf = channel(tx_smpl, z, sigma2, B, fs, channel_mode)\n",
        "    y.append(xzt)\n",
        "\n",
        "  return np.array(b), np.array(s), np.array(y)"
      ],
      "metadata": {
        "id": "IJeO6sflqxS5"
      },
      "execution_count": 19,
      "outputs": []
    },
    {
      "cell_type": "code",
      "source": [
        "class CNN_FC_Equalizer(nn.Module):\n",
        "  def __init__(self, input_length, out_dim, kernel_size=5, hidden_dim=128):\n",
        "    \"\"\"\n",
        "    Parameters:\n",
        "    input_length: Length of one channel (i.e., half the length of the hstacked input).\n",
        "    out_dim: Number of output neurons (e.g. number of bits per block).\n",
        "    kernel_size: Number of taps in the convolution kernel.\n",
        "    hidden_dim: Number of neurons in the hidden FC layer.\n",
        "    \"\"\"\n",
        "    super(CNN_FC_Equalizer, self).__init__()\n",
        "    padding = kernel_size // 2  # \"same\" padding\n",
        "\n",
        "    # Define two 1D convolution layers (each with one input and one output channel)\n",
        "    # conv_re will serve to learn the real part of the kernel,\n",
        "    # conv_im will serve to learn the imaginary part.\n",
        "    self.conv_re = nn.Conv1d(in_channels=1, out_channels=1, kernel_size=kernel_size,\n",
        "                              padding=padding, bias=False)\n",
        "    self.conv_im = nn.Conv1d(in_channels=1, out_channels=1, kernel_size=kernel_size,\n",
        "                              padding=padding, bias=False)\n",
        "\n",
        "    # Fully connected (hidden) layer.\n",
        "    # The convolution outputs two channels (real and imaginary) of length = input_length.\n",
        "    fc_input_dim = 2 * input_length\n",
        "    self.fc_hidden = nn.Linear(fc_input_dim, hidden_dim)\n",
        "    self.tanh = nn.Tanh()\n",
        "\n",
        "    # Final FC output layer.\n",
        "    self.fc_out = nn.Linear(hidden_dim, out_dim)\n",
        "    self.sigmoid = nn.Sigmoid()  # since target bits are in [0,1]\n",
        "\n",
        "  def forward(self, x):\n",
        "    \"\"\"\n",
        "    Input x shape: (batch_size, total_length) where total_length = 2*input_length.\n",
        "    We first reshape x into (batch_size, 2, input_length) where channel 0 is Re, channel 1 is Im.\n",
        "    \"\"\"\n",
        "    batch_size = x.shape[0]\n",
        "    # Reshape: split the hstacked vector into two channels\n",
        "    # Assumes that x.shape[1] is even.\n",
        "    input_length = x.shape[1] // 2\n",
        "    x = x.view(batch_size, 2, input_length)  # shape: (batch, 2, L)\n",
        "\n",
        "    # Separate the real and imaginary parts\n",
        "    x_re = x[:, 0:1, :]  # shape: (batch, 1, L)\n",
        "    x_im = x[:, 1:2, :]  # shape: (batch, 1, L)\n",
        "\n",
        "    # Compute the four real convolutions to emulate complex convolution:\n",
        "    # According to:\n",
        "    #   Re{y∘h} = conv_re(x_re) - conv_im(x_im)\n",
        "    #   Im{y∘h} = conv_im(x_re) + conv_re(x_im)\n",
        "    conv_re_x_re = self.conv_re(x_re)\n",
        "    conv_im_x_im = self.conv_im(x_im)\n",
        "    conv_im_x_re = self.conv_im(x_re)\n",
        "    conv_re_x_im = self.conv_re(x_im)\n",
        "\n",
        "    out_re = conv_re_x_re - conv_im_x_im\n",
        "    out_im = conv_im_x_re + conv_re_x_im\n",
        "\n",
        "    # Concatenate the two channels along the channel dimension\n",
        "    out = torch.cat([out_re, out_im], dim=1)  # shape: (batch, 2, L)\n",
        "\n",
        "    # Flatten the output: (batch, 2*L)\n",
        "    out = out.view(batch_size, -1)\n",
        "\n",
        "    # Fully connected hidden layer with tanh activation\n",
        "    out = self.fc_hidden(out)\n",
        "    out = self.tanh(out)\n",
        "\n",
        "    # Final output layer with sigmoid activation\n",
        "    out = self.fc_out(out)\n",
        "    out = self.sigmoid(out)\n",
        "    return out"
      ],
      "metadata": {
        "id": "c-ULHLC62HSJ"
      },
      "execution_count": 20,
      "outputs": []
    },
    {
      "cell_type": "code",
      "source": [
        "def train_equalizer(model, train_loader, test_loader, epochs=20, learning_rate=1e-3, device='cpu'):\n",
        "  criterion = nn.BCELoss()  # binary cross-entropy loss\n",
        "  optimizer = optim.Adam(model.parameters(), lr=learning_rate)\n",
        "\n",
        "  model.to(device)\n",
        "\n",
        "  for epoch in range(epochs):\n",
        "    model.train()\n",
        "    train_loss = 0\n",
        "    for X_batch, y_batch in train_loader:\n",
        "      X_batch = X_batch.to(device)\n",
        "      y_batch = y_batch.to(device)\n",
        "\n",
        "      optimizer.zero_grad()\n",
        "      outputs = model(X_batch)\n",
        "      loss = criterion(outputs, y_batch)\n",
        "      loss.backward()\n",
        "      optimizer.step()\n",
        "\n",
        "      train_loss += loss.item() * X_batch.size(0)\n",
        "    train_loss /= len(train_loader.dataset)\n",
        "\n",
        "    # Evaluation on test set\n",
        "    model.eval()\n",
        "    with torch.no_grad():\n",
        "      test_loss = 0\n",
        "      total_ber = 0\n",
        "      for X_batch, y_batch in test_loader:\n",
        "        X_batch = X_batch.to(device)\n",
        "        y_batch = y_batch.to(device)\n",
        "        outputs = model(X_batch)\n",
        "        loss = criterion(outputs, y_batch)\n",
        "        test_loss += loss.item() * X_batch.size(0)\n",
        "        # Binarize outputs with 0.5 threshold\n",
        "        pred_bits = (outputs >= 0.5).float()\n",
        "        total_ber += torch.sum(torch.abs(pred_bits - y_batch)).item()\n",
        "      test_loss /= len(test_loader.dataset)\n",
        "      ber = total_ber / (len(test_loader.dataset) * y_batch.shape[1])\n",
        "      mi = mutual_information(ber)\n",
        "\n",
        "    print(f\"Epoch {epoch+1}/{epochs}: Train Loss = {train_loss:.4f}, Test Loss = {test_loss:.4f}, BER = {ber:.4f}, MI = {mi:.4f}\")\n",
        "\n",
        "  return model"
      ],
      "metadata": {
        "id": "K7p_sfyini-q"
      },
      "execution_count": 21,
      "outputs": []
    },
    {
      "cell_type": "markdown",
      "source": [
        "### **Receiver**"
      ],
      "metadata": {
        "id": "_bE784yMsHF4"
      }
    },
    {
      "cell_type": "markdown",
      "source": [
        "#### **Maximum Likelihood (ML) Detector**"
      ],
      "metadata": {
        "id": "GjX0Pe9Un1yP"
      }
    },
    {
      "cell_type": "code",
      "source": [
        "def ML_detector(rx_sym, constellation):\n",
        "  \"\"\"\n",
        "  Perform minimum distance or ML detection to map received symbols to the closest constellation points.\n",
        "\n",
        "  Parameters:\n",
        "  rx_sym (np.array): Received symbols.\n",
        "  constellation (np.array): Array of possible modulation constellation points.\n",
        "\n",
        "  Returns:\n",
        "  tuple: (det_sym, det_sym_idx)\n",
        "          det_sym (np.array): Detected symbols mapped to the closest constellation points.\n",
        "          det_sym_idx (np.array): Indices of detected symbols within the constellation.\n",
        "  \"\"\"\n",
        "  if isinstance(constellation, tuple):\n",
        "    constellation = constellation[0]\n",
        "\n",
        "  # Compute closest constellation point indices using squared Euclidean distance\n",
        "  det_sym_idx = np.argmin(np.square(np.abs(constellation[:, None] - rx_sym[None, :])), axis=0).astype(int)\n",
        "  det_sym = constellation[det_sym_idx]\n",
        "\n",
        "  return det_sym, det_sym_idx"
      ],
      "metadata": {
        "id": "uGQP4uBzn1UW"
      },
      "execution_count": 22,
      "outputs": []
    },
    {
      "cell_type": "markdown",
      "source": [
        "#### **Demodulation and Detection**"
      ],
      "metadata": {
        "id": "U5v-hX9ElVhX"
      }
    },
    {
      "cell_type": "code",
      "source": [
        "def corr_match(rx_smpl, p, smpl_per_symbl, rx_mode, pulse_name, pkt_size):\n",
        "  \"\"\"\n",
        "  Perform matched filtering or correlator processing.\n",
        "\n",
        "  Parameters:\n",
        "  rx_smpl (np.array): Received signal samples.\n",
        "  p (np.array): Pulse shaping filter.\n",
        "  smpl_per_symbl (int): Number of samples per symbol.\n",
        "  rx_mode (str): Reception mode ('correlator' or 'matched_filter').\n",
        "  pulse_name (str): Name of the pulse shaping filter ('rectangular', 'triangular',\n",
        "                     'sine', 'raised_cosine', 'root_raised_cosine').\n",
        "  pkt_size (int): Packet size in symbols.\n",
        "\n",
        "  Returns:\n",
        "  rx_sym (np.array): Received symbols after matched filtering.\n",
        "  \"\"\"\n",
        "\n",
        "  rx_sym = None\n",
        "\n",
        "  if rx_mode == \"correlator\":\n",
        "    # Correlation-based detection for different pulse shapes\n",
        "    num_sym = pkt_size\n",
        "    rx_sym = np.zeros(num_sym, dtype=np.complex128)\n",
        "    p_len = len(p)\n",
        "\n",
        "    if pulse_name in ['rectangular', 'triangular', 'sine']:\n",
        "      for i in range(num_sym):\n",
        "        start = i * p_len\n",
        "        stop  = (i+1) * p_len\n",
        "        rx_sym[i] = np.dot(np.conj(p), rx_smpl[start:stop])\n",
        "\n",
        "    elif pulse_name in ['raised_cosine', 'root_raised_cosine']:\n",
        "      for i in range(num_sym):\n",
        "        start = i * smpl_per_symbl\n",
        "        stop  = p_len + (i) * smpl_per_symbl\n",
        "        rx_sym[i] = np.dot(np.conj(p), rx_smpl[start:stop])\n",
        "\n",
        "    else:\n",
        "      raise ValueError(\"Invalid pulse name. Choose from 'rectangular', 'triangular', 'sine', 'raised_cosine', or 'root_raised_cosine'.\")\n",
        "\n",
        "\n",
        "  elif rx_mode == \"matched_filter\":\n",
        "    # Convolution-based matched filter:\n",
        "    temp = np.convolve(rx_smpl, np.flip(np.conj(p)), mode='full')\n",
        "    p_len = len(p)\n",
        "    # Sampling offset (group delay)\n",
        "    delay = p_len - 1\n",
        "    # Sample the matched filter output at symbol boundaries\n",
        "    rx_sym = temp[delay : delay + pkt_size * smpl_per_symbl : smpl_per_symbl]\n",
        "\n",
        "  else:\n",
        "    raise ValueError(f\"Unknown rx_mode: {rx_mode}\")\n",
        "\n",
        "  return rx_sym"
      ],
      "metadata": {
        "id": "hr8my6jKtANL"
      },
      "execution_count": 23,
      "outputs": []
    },
    {
      "cell_type": "code",
      "source": [
        "def pulse_demodulation(rx_smpl, modulation, M, fs, smpl_per_symbl, pulse_name, rx_mode, pkt_size, target_energy, *args):\n",
        "  \"\"\"\n",
        "  Perform pulse demodulation for a given sequence of received samples using matched filtering.\n",
        "\n",
        "  Parameters:\n",
        "  rx_smpl (np.array): Received signal samples.\n",
        "  modulation (str): Modulation scheme ('pam', 'psk', 'qam').\n",
        "  M (int): Modulation order.\n",
        "  fs (float): Sampling frequency.\n",
        "  smpl_per_symbl (int): Number of samples per symbol.\n",
        "  pulse_name (str): Name of the pulse shaping filter ('rectangular', 'triangular', 'sine', 'raised_cosine', 'root_raised_cosine').\n",
        "  rx_mode (str): Reception mode for the matched filter.\n",
        "  pkt_size (int): Packet size in symbols.\n",
        "  target_energy (float): Target energy for the constellation.\n",
        "\n",
        "  *args: Optional arguments for advanced pulse shapes:\n",
        "        beta (float, optional): Roll-off factor for raised cosine and root raised cosine filters.\n",
        "        span_in_symbl (int, optional): Time span in symbols for pulse shaping filter truncation.\n",
        "\n",
        "  Returns:\n",
        "  tuple: (det_sym_idx, rx_sym)\n",
        "          det_sym_idx (np.array): Indices of detected symbols mapped to constellation.\n",
        "          rx_sym (np.array): Received symbols after matched filtering.\n",
        "  \"\"\"\n",
        "  if len(args) == 2:\n",
        "    beta_, span_in_symbl_ = args\n",
        "    p, _ = pulse_shape(pulse_name, fs, smpl_per_symbl, M, beta_, span_in_symbl_)\n",
        "  else:\n",
        "    p, _ = pulse_shape(pulse_name, fs, smpl_per_symbl, M)\n",
        "\n",
        "  # Generate the constellation points\n",
        "  cons, _ = constellation(M, modulation, target_energy)\n",
        "\n",
        "  # Perform correlation-based matched filtering\n",
        "  rx_sym = corr_match(rx_smpl, p, smpl_per_symbl, rx_mode, pulse_name, pkt_size)\n",
        "\n",
        "  # Minimum distance detection\n",
        "  _, det_sym_idx = ML_detector(rx_sym, cons)\n",
        "\n",
        "  return det_sym_idx, rx_sym"
      ],
      "metadata": {
        "id": "wUt2cmRxl48n"
      },
      "execution_count": 24,
      "outputs": []
    },
    {
      "cell_type": "markdown",
      "source": [
        "## **Performance Evaluation Functions**"
      ],
      "metadata": {
        "id": "6DaQQApu6Mlf"
      }
    },
    {
      "cell_type": "markdown",
      "source": [
        "### **Bit Error Rate (BER) and Symbol Error Rate (SER)**"
      ],
      "metadata": {
        "id": "vmoHbq809vrw"
      }
    },
    {
      "cell_type": "code",
      "source": [
        "def ber_ser(det_sym_idx, b_tx, sym_idx, b_gray):\n",
        "  \"\"\"\n",
        "  Compute bit error rate (BER) and symbol error rate (SER) based on detected symbols and transmitted symbols.\n",
        "\n",
        "  Parameters:\n",
        "  det_sym_idx (np.array): Indices of detected symbols mapped to constellation.\n",
        "  b_tx (np.array): Binary transmission packet.\n",
        "  sym_idx (np.array): Indices of transmitted symbols.\n",
        "  b_gray (np.array): Gray code vector.\n",
        "\n",
        "  Returns:\n",
        "  tuple: (ber, ser)\n",
        "          ber (float): Bit error rate.\n",
        "          ser (float): Symbol error rate.\n",
        "  \"\"\"\n",
        "  # Convert detected symbol indices to their corresponding bit sequences\n",
        "  det_bit = b_gray[det_sym_idx, :]\n",
        "\n",
        "  # Flatten to match the shape of b_tx\n",
        "  det_bit = det_bit.flatten()\n",
        "\n",
        "  # Compute symbol error rate (SER)\n",
        "  ser = np.count_nonzero(det_sym_idx != sym_idx) / sym_idx.size\n",
        "\n",
        "  # Compute bit error rate (BER)\n",
        "  ber = np.count_nonzero(det_bit != b_tx.flatten()) / b_tx.size\n",
        "\n",
        "  return ber, ser"
      ],
      "metadata": {
        "id": "UidagjTt6VlO"
      },
      "execution_count": 25,
      "outputs": []
    },
    {
      "cell_type": "code",
      "source": [
        "def compute_ber(pred_bits, true_bits):\n",
        "    \"\"\"\n",
        "    Compute bit error rate (BER) between predicted and true bits.\n",
        "    \"\"\"\n",
        "    pred_bits = pred_bits.cpu().numpy().round().astype(int)\n",
        "    true_bits = true_bits.cpu().numpy().astype(int)\n",
        "    return np.mean(pred_bits != true_bits)"
      ],
      "metadata": {
        "id": "lbFlXw4JeDAl"
      },
      "execution_count": 26,
      "outputs": []
    },
    {
      "cell_type": "markdown",
      "source": [
        "### **Mutual Information**"
      ],
      "metadata": {
        "id": "AcfZdIll9xeg"
      }
    },
    {
      "cell_type": "code",
      "source": [
        "def mutual_information(ber):\n",
        "  \"\"\"\n",
        "    Compute the mutual information can be used to measure performance of the system.\n",
        "\n",
        "    Parameters:\n",
        "    ber (float): Bit error rate\n",
        "\n",
        "    Returns:\n",
        "    float: End-to-end channel mutual information.\n",
        "  \"\"\"\n",
        "  def entropy(ber):\n",
        "\n",
        "    if ber == 0 or ber == 1:\n",
        "      return 0\n",
        "    else:\n",
        "      return - (ber * np.log2(ber) + (1 - ber) * np.log2(1 - ber))\n",
        "\n",
        "  return 1 - entropy(ber)"
      ],
      "metadata": {
        "id": "IllJVlUT98U8"
      },
      "execution_count": 27,
      "outputs": []
    },
    {
      "cell_type": "markdown",
      "source": [
        "### **Computational Complexity**"
      ],
      "metadata": {
        "id": "gWJbtFu1YWte"
      }
    },
    {
      "cell_type": "code",
      "source": [
        "def compute_complexity(input_length, kernel_size, hidden_dim, out_dim):\n",
        "  \"\"\"\n",
        "  Estimate the number of multiplications per sample (decoded block) in test mode,\n",
        "  and then compute the number per decoded bit.\n",
        "\n",
        "  For the convolution stage:\n",
        "    - Two conv layers: each computes ~ (input_length * kernel_size) multiplications.\n",
        "    - Total conv multiplications: 2 * input_length * kernel_size.\n",
        "\n",
        "  For the FC hidden layer:\n",
        "    - (2*input_length) * hidden_dim multiplications.\n",
        "\n",
        "  For the output FC layer:\n",
        "    - hidden_dim * out_dim multiplications.\n",
        "\n",
        "  Returns: multiplications per decoded bit.\n",
        "  \"\"\"\n",
        "  conv_mult = 2 * input_length * kernel_size\n",
        "  fc_hidden_mult = (2 * input_length) * hidden_dim\n",
        "  fc_out_mult = hidden_dim * out_dim\n",
        "  total_mult = conv_mult + fc_hidden_mult + fc_out_mult\n",
        "  return total_mult / out_dim  # per decoded bit"
      ],
      "metadata": {
        "id": "VwlqQ-xMYSVq"
      },
      "execution_count": 28,
      "outputs": []
    },
    {
      "cell_type": "markdown",
      "source": [
        "# **Parameters**"
      ],
      "metadata": {
        "id": "eui8VCvwBOYQ"
      }
    },
    {
      "cell_type": "markdown",
      "source": [
        "## **Transmission Parameters**"
      ],
      "metadata": {
        "id": "ypKphlzrnpSw"
      }
    },
    {
      "cell_type": "code",
      "source": [
        "# Define transmitter parameters\n",
        "fs = 1e6  # Baseband Sampling Rate\n",
        "ts = 1 / fs  # Baseband Sampling Time\n",
        "pkt_size = int(1e5)  # Packet size\n",
        "flg_gray_encode = 1  # Gray code usage flag\n",
        "\n",
        "modulation = 'qam'  # Modulation type\n",
        "k = 4  # Bits per symbol\n",
        "M = 2 ** k  # Modulation order\n",
        "\n",
        "smpl_per_symbl = 8  # Samples per symbol\n",
        "Ts = smpl_per_symbl * ts  # Symbol time\n",
        "span_in_symbl = 6  # Pulse span in symbols\n",
        "beta = 0.8  # Roll-off factor\n",
        "pulse_name = 'root_raised_cosine'  # Pulse shape name\n",
        "signal_power = 1; # Average power of the transmitted signal\n",
        "\n",
        "snr_min = 0 # Minimum SNR (dB)\n",
        "snr_max = 20  # Maximum SNR (dB)\n",
        "snr_step = 0.25  # SNR Step (dB)\n",
        "snr_db = np.arange(snr_min, snr_max, snr_step)  # SNR Vector (dB)"
      ],
      "metadata": {
        "id": "nptP7jYEky-x"
      },
      "execution_count": 29,
      "outputs": []
    },
    {
      "cell_type": "markdown",
      "source": [
        "## **Fiber-Optic Channel Parameters**"
      ],
      "metadata": {
        "id": "RL9dk1zsubya"
      }
    },
    {
      "cell_type": "code",
      "source": [
        "# Define fiber-optic channel parameters\n",
        "L = 1000*1e3  # Propagation distance in m\n",
        "a_dB = 0.2  # Power loss in dB/km\n",
        "\n",
        "D = 17*1e-12/(1e-9*1e3) # Dispersion in s/(m^2)\n",
        "gamma = 1.27e-3  # Nonlinearity coefficient in W^(-1)m^(-1)\n",
        "c = 3e8 # Light velocity in m/s\n",
        "nsp = 1  # Spontaneous emission factor\n",
        "h = 6.626e-34  # Planck's constant in J·s\n",
        "lambda0 = 1.55e-6  # Carrier wavelength in meters\n",
        "f0 = c / lambda0  # Carrier frequency in Hz\n",
        "\n",
        "# Convert parameters to appropriate units\n",
        "alpha = np.log(10)/10 * a_dB * 1e-3  # Loss coefficient in 1/m\n",
        "beta2 = -(lambda0**2 / (2 * np.pi * c)) * (D)  # Dispersion coefficient in s^2/m\n",
        "sigma2_0 = nsp * h * f0 * alpha  # Physical noise power spectral density\n",
        "T0 = np.sqrt(np.abs(beta2) * L / 2)  # Normalized time scale\n",
        "P0 = 2 / (gamma * L)  # Normalized power scale\n",
        "sigma2 = sigma2_0 * L / (P0 * T0)  # Normalized noise variance"
      ],
      "metadata": {
        "id": "81_tVLtJuWXT"
      },
      "execution_count": 30,
      "outputs": []
    },
    {
      "cell_type": "markdown",
      "source": [
        "## **Receiver Parameters**"
      ],
      "metadata": {
        "id": "BEen8tm4sYnX"
      }
    },
    {
      "cell_type": "code",
      "source": [
        "# Define receiver parameters\n",
        "rx_mode = 'matched_filter'"
      ],
      "metadata": {
        "id": "15FFdyMAro2J"
      },
      "execution_count": 31,
      "outputs": []
    },
    {
      "cell_type": "markdown",
      "source": [
        "# **Inter-symbol Interference  Evaluation on Guassian Signals**"
      ],
      "metadata": {
        "id": "CBTFeKX370fj"
      }
    },
    {
      "cell_type": "code",
      "source": [
        "def q_t(t, t0):\n",
        "  # Given parameters\n",
        "  A1 = 1\n",
        "  A2 = 2\n",
        "  D = 1\n",
        "  return A1 * np.exp(-((t + t0)**2) / (2 * D**2)) + A2 * np.exp(-((t - t0)**2) / (2 * D**2))\n",
        "\n",
        "fs = 100  # Sampling frequency\n",
        "t = np.linspace(-10, 10, fs*20)  # Time vector\n",
        "q_t0_4 = q_t(t, 4)\n",
        "q_t0_7 = q_t(t, 7)\n",
        "\n",
        "# Pass signals through the channel\n",
        "q_t0_4_noisy, q_t0_4_freq = channel(q_t0_4, 1, sigma2, 1, fs, 0)\n",
        "q_t0_7_noisy, q_t0_7_freq = channel(q_t0_7, 1, sigma2, 1, fs, 0)\n",
        "\n",
        "# Plot input signals\n",
        "plt.figure(figsize=(10, 5))\n",
        "plt.plot(t, q_t0_4, label=r'$q(t,0)$ for $t_0 = 4$', linestyle='solid')\n",
        "plt.plot(t, q_t0_7, label=r'$q(t,0)$ for $t_0 = 7$', linestyle='dashed')\n",
        "plt.xlabel('Time')\n",
        "plt.ylabel('q(t,0)')\n",
        "plt.title('Inter-symbol Interference (ISI) - Input Signals')\n",
        "plt.legend()\n",
        "plt.grid()\n",
        "plt.show()\n",
        "\n",
        "# Plot the results\n",
        "plt.figure(figsize=(10, 5))\n",
        "plt.plot(t, np.real(q_t0_4_noisy), label=r'$q(t,1)$ for $t_0 = 4$', linestyle='solid')\n",
        "plt.plot(t, np.real(q_t0_7_noisy), label=r'$q(t,1)$ for $t_0 = 7$', linestyle='dashed')\n",
        "plt.xlabel('Time')\n",
        "plt.ylabel('q(t,1)')\n",
        "plt.title('Inter-symbol Interference (ISI) - Output Signals')\n",
        "plt.legend()\n",
        "plt.grid()\n",
        "plt.show()"
      ],
      "metadata": {
        "colab": {
          "base_uri": "https://localhost:8080/",
          "height": 0
        },
        "id": "006yeeok7oNT",
        "outputId": "156bfc8f-cd6e-4b0f-ed20-240914fdfc42"
      },
      "execution_count": 32,
      "outputs": [
        {
          "output_type": "display_data",
          "data": {
            "text/plain": [
              "<Figure size 1000x500 with 1 Axes>"
            ],
            "image/png": "[encoded data removed]"
          },
          "metadata": {}
        },
        {
          "output_type": "display_data",
          "data": {
            "text/plain": [
              "<Figure size 1000x500 with 1 Axes>"
            ],
            "image/png": "[encoded data removed]"
          },
          "metadata": {}
        }
      ]
    },
    {
      "cell_type": "markdown",
      "source": [
        "# **Implementation**"
      ],
      "metadata": {
        "id": "Rkw2EOpV_DeP"
      }
    },
    {
      "cell_type": "markdown",
      "source": [
        "## **Optical Fiber Channel in Absense of Non-linearity**"
      ],
      "metadata": {
        "id": "SlukMl4P_Nwk"
      }
    },
    {
      "cell_type": "code",
      "source": [
        "channel_mode = 0 # Fiber channel with(=1)/without(=0) nonlinearity"
      ],
      "metadata": {
        "id": "tLVwL8vW_nkb"
      },
      "execution_count": 33,
      "outputs": []
    },
    {
      "cell_type": "markdown",
      "source": [
        "### **Transmitter**"
      ],
      "metadata": {
        "id": "SLZOtmlC8NZo"
      }
    },
    {
      "cell_type": "code",
      "source": [
        "tx_smpl, sym_idx, b_tx, b_gray, BW, p, cons = transmitter(pkt_size, k, M, flg_gray_encode, modulation, pulse_name, signal_power,\n",
        "                fs, smpl_per_symbl, span_in_symbl, beta, plot_mode = 1)"
      ],
      "metadata": {
        "colab": {
          "base_uri": "https://localhost:8080/",
          "height": 0
        },
        "id": "ILU6yJ0UnoC4",
        "outputId": "df7eccde-7524-4737-ee71-a1ffebff2240"
      },
      "execution_count": 34,
      "outputs": [
        {
          "output_type": "stream",
          "name": "stderr",
          "text": [
            "/usr/local/lib/python3.11/dist-packages/matplotlib/cbook.py:1709: ComplexWarning: Casting complex values to real discards the imaginary part\n",
            "  return math.isfinite(val)\n",
            "/usr/local/lib/python3.11/dist-packages/matplotlib/cbook.py:1345: ComplexWarning: Casting complex values to real discards the imaginary part\n",
            "  return np.asarray(x, float)\n"
          ]
        },
        {
          "output_type": "display_data",
          "data": {
            "text/plain": [
              "<Figure size 1200x400 with 3 Axes>"
            ],
            "image/png": "[encoded data removed]"
          },
          "metadata": {}
        },
        {
          "output_type": "stream",
          "name": "stdout",
          "text": [
            "  - Symbol Rate (Rs): 1.25e+01 symbols/sec\n",
            "  - Bit Rate (Rb): 5.00e+01 bits/sec\n",
            "  - Bandwidth (BW): 1.80e+02 Hz\n"
          ]
        }
      ]
    },
    {
      "cell_type": "markdown",
      "source": [
        "### **Channel Propagation and Equalization**"
      ],
      "metadata": {
        "id": "Hpy5jB6K8VDu"
      }
    },
    {
      "cell_type": "code",
      "source": [
        "# Step 5: Propagation in the channel\n",
        "xzt, xzf = channel(tx_smpl, L/L, sigma2, 1, fs, channel_mode)\n",
        "\n",
        "# Step 6: Channel equalization\n",
        "xzte, xzfe = linear_equalization(xzt, L/L, fs, channel_mode)"
      ],
      "metadata": {
        "id": "lqfEp3Iv8XYR"
      },
      "execution_count": 35,
      "outputs": []
    },
    {
      "cell_type": "markdown",
      "source": [
        "### **Receiver**"
      ],
      "metadata": {
        "id": "ivOD6w-I8csp"
      }
    },
    {
      "cell_type": "code",
      "source": [
        "# Step 7: Demodulation and detection\n",
        "det_sym_idx, rx_sym = pulse_demodulation(xzte, modulation, M, fs, smpl_per_symbl, pulse_name, rx_mode, pkt_size, signal_power, beta, span_in_symbl)\n",
        "\n",
        "# Step 8: BER & SER\n",
        "ber, ser = ber_ser(det_sym_idx, b_tx, sym_idx, b_gray)\n",
        "\n",
        "print(f\"Bit Error Rate (BER): {ber:.4f}\")\n",
        "print(f\"Symbol Error Rate (SER): {ser:.4f}\")"
      ],
      "metadata": {
        "colab": {
          "base_uri": "https://localhost:8080/"
        },
        "id": "EfX_WEYSj8zF",
        "outputId": "2fd059e1-b122-4c78-9834-c66fd045755e"
      },
      "execution_count": 36,
      "outputs": [
        {
          "output_type": "stream",
          "name": "stdout",
          "text": [
            "Bit Error Rate (BER): 0.0000\n",
            "Symbol Error Rate (SER): 0.0000\n"
          ]
        }
      ]
    },
    {
      "cell_type": "code",
      "source": [
        "cons_plot(cons, M, modulation, rx_sym)"
      ],
      "metadata": {
        "colab": {
          "base_uri": "https://localhost:8080/",
          "height": 0
        },
        "id": "8onHkjenAjUp",
        "outputId": "dd120e16-79ec-4ff0-eb1b-aabe358ddbfb"
      },
      "execution_count": 37,
      "outputs": [
        {
          "output_type": "display_data",
          "data": {
            "text/plain": [
              "<Figure size 640x480 with 1 Axes>"
            ],
            "image/png": "[encoded data removed]"
          },
          "metadata": {}
        }
      ]
    },
    {
      "cell_type": "markdown",
      "source": [
        "### **BER Performance vs. SNR**"
      ],
      "metadata": {
        "id": "Z80sy1pX8g6A"
      }
    },
    {
      "cell_type": "code",
      "source": [
        "ser = []\n",
        "ber = []\n",
        "\n",
        "for snr in snr_db:\n",
        "  snr_lin = 10 ** (snr / 10)\n",
        "  total_noise_power = sigma2\n",
        "  signal_power = snr_lin * total_noise_power\n",
        "  tx_smpl, sym_idx, b_tx, b_gray, BW, p, cons = transmitter(pkt_size, k, M, flg_gray_encode, modulation, pulse_name, signal_power,\n",
        "                fs, smpl_per_symbl, span_in_symbl, beta, plot_mode = 0)\n",
        "  xzt, xzf = channel(tx_smpl, L/L, sigma2, 1, fs, channel_mode)\n",
        "  xzte, xzfe = linear_equalization(xzt, L/L, fs, channel_mode)\n",
        "  det_sym_idx, rx_sym = pulse_demodulation(xzte, modulation, M, fs, smpl_per_symbl, pulse_name, rx_mode, pkt_size, signal_power, beta, span_in_symbl)\n",
        "  ber_temp, ser_temp = ber_ser(det_sym_idx, b_tx, sym_idx, b_gray)\n",
        "  ser.append(ser_temp)\n",
        "  ber.append(ber_temp)"
      ],
      "metadata": {
        "id": "794-XWpT5Idx"
      },
      "execution_count": 38,
      "outputs": []
    },
    {
      "cell_type": "code",
      "source": [
        "ber_plot(snr_db, ber, M, modulation, channel_mode)"
      ],
      "metadata": {
        "id": "GQzBOW-b3n1P",
        "colab": {
          "base_uri": "https://localhost:8080/",
          "height": 0
        },
        "outputId": "d5c37d73-aa99-418c-b6f4-e7efa1dd91a4"
      },
      "execution_count": 39,
      "outputs": [
        {
          "output_type": "display_data",
          "data": {
            "text/plain": [
              "<Figure size 640x480 with 1 Axes>"
            ],
            "image/png": "[encoded data removed]"
          },
          "metadata": {}
        },
        {
          "output_type": "display_data",
          "data": {
            "text/plain": [
              "<Figure size 640x480 with 0 Axes>"
            ]
          },
          "metadata": {}
        }
      ]
    },
    {
      "cell_type": "markdown",
      "source": [
        "## **Optical Fiber Channel with Non-linearity**"
      ],
      "metadata": {
        "id": "Uh70S941Anhr"
      }
    },
    {
      "cell_type": "code",
      "source": [
        "channel_mode = 1 # Fiber channel with(=1)/without(=0) nonlinearity\n",
        "snr = 35 # in dB\n",
        "data_samples = 10000\n",
        "block_size = 4\n",
        "b, s, y = dataset_generation(snr, data_samples, block_size, k, M, flg_gray_encode, modulation, pulse_name,\n",
        "                       fs, smpl_per_symbl, span_in_symbl, beta, sigma2, channel_mode,\n",
        "                       signal_power = 1, plot_mode = 0, z = 1, B = 1)\n",
        "np.save(\"received_signal.npy\", y)\n",
        "np.save(\"transmitted_sym.npy\", s)\n",
        "np.save(\"transmitted_bits.npy\", b)"
      ],
      "metadata": {
        "id": "3-iff02v3ENQ"
      },
      "execution_count": 40,
      "outputs": []
    },
    {
      "cell_type": "code",
      "source": [
        "y = np.load(\"received_signal.npy\")\n",
        "s = np.load(\"transmitted_sym.npy\")\n",
        "b = np.load(\"transmitted_bits.npy\")\n",
        "\n",
        "# Real and imaginary part separation\n",
        "y_real = np.real(y)\n",
        "y_imag = np.imag(y)\n",
        "y = np.hstack((y_real, y_imag))\n",
        "\n",
        "X_train, X_test, y_train, y_test = train_test_split(y, b, test_size = 0.2, random_state=42)\n",
        "\n",
        "# Input Preprocessing\n",
        "X_mean = X_train.mean()\n",
        "X_std = X_train.std()\n",
        "X_train = (X_train - X_mean) / X_std\n",
        "X_test = (X_test - X_mean) / X_std\n",
        "# Output Preprocessing\n",
        "y_train = y_train.reshape(y_train.shape[0], -1)\n",
        "y_test = y_test.reshape(y_test.shape[0], -1)"
      ],
      "metadata": {
        "id": "U2k3AJprTh5U"
      },
      "execution_count": 41,
      "outputs": []
    },
    {
      "cell_type": "code",
      "source": [
        "X_train = torch.tensor(X_train, dtype=torch.float32)\n",
        "y_train = torch.tensor(y_train, dtype=torch.float32)\n",
        "X_test = torch.tensor(X_test, dtype=torch.float32)\n",
        "y_test = torch.tensor(y_test, dtype=torch.float32)\n",
        "\n",
        "train = TensorDataset(X_train, y_train)\n",
        "test = TensorDataset(X_test, y_test)\n",
        "\n",
        "train_loader = DataLoader(train, batch_size=32, shuffle=True)\n",
        "test_loader = DataLoader(test, batch_size=32, shuffle=False)"
      ],
      "metadata": {
        "id": "xCmqFygbVE_c"
      },
      "execution_count": 42,
      "outputs": []
    },
    {
      "cell_type": "code",
      "source": [
        "# Determine the length of one channel (real/imag part)\n",
        "input_dim = X_train.shape[1]\n",
        "out_dim = y_train.shape[1]\n",
        "input_length = input_dim // 2\n",
        "\n",
        "# Instantiate the model\n",
        "model = CNN_FC_Equalizer(input_length=input_length, out_dim=out_dim, kernel_size=5, hidden_dim=128)\n",
        "\n",
        "# Compute estimated multiplications per decoded bit\n",
        "mults_per_bit = compute_complexity(input_length=input_length, kernel_size=5, hidden_dim=128, out_dim=out_dim)\n",
        "print(f\"Estimated multiplications per decoded bit: {mults_per_bit:.2f}\")\n",
        "\n",
        "# Train the model\n",
        "trained_model = train_equalizer(model, train_loader, test_loader, epochs=50, learning_rate=1e-3, device='cpu')\n",
        "\n",
        "# Final evaluation on test set\n",
        "trained_model.eval()\n",
        "with torch.no_grad():\n",
        "  outputs = trained_model(X_test)\n",
        "  pred_bits = (outputs >= 0.5).float()\n",
        "  ber_final = compute_ber(pred_bits, y_test)\n",
        "  mi_final = mutual_information(ber_final)\n",
        "print(f\"Final Test BER: {ber_final:.4f}, Mutual Information: {mi_final:.4f}\")"
      ],
      "metadata": {
        "colab": {
          "base_uri": "https://localhost:8080/"
        },
        "id": "JYw-9-HpNwCm",
        "outputId": "74fa9143-ccbc-47aa-ae59-e3bd03464f92"
      },
      "execution_count": 43,
      "outputs": [
        {
          "output_type": "stream",
          "name": "stdout",
          "text": [
            "Estimated multiplications per decoded bit: 1325.00\n",
            "Epoch 1/50: Train Loss = 0.6072, Test Loss = 0.5662, BER = 0.3728, MI = 0.0472\n",
            "Epoch 2/50: Train Loss = 0.5550, Test Loss = 0.5504, BER = 0.3801, MI = 0.0419\n",
            "Epoch 3/50: Train Loss = 0.5431, Test Loss = 0.5451, BER = 0.3716, MI = 0.0481\n",
            "Epoch 4/50: Train Loss = 0.5366, Test Loss = 0.5401, BER = 0.3760, MI = 0.0448\n",
            "Epoch 5/50: Train Loss = 0.5308, Test Loss = 0.5363, BER = 0.3568, MI = 0.0600\n",
            "Epoch 6/50: Train Loss = 0.5254, Test Loss = 0.5336, BER = 0.3541, MI = 0.0623\n",
            "Epoch 7/50: Train Loss = 0.5202, Test Loss = 0.5300, BER = 0.3498, MI = 0.0662\n",
            "Epoch 8/50: Train Loss = 0.5140, Test Loss = 0.5234, BER = 0.3299, MI = 0.0852\n",
            "Epoch 9/50: Train Loss = 0.5067, Test Loss = 0.5193, BER = 0.3200, MI = 0.0956\n",
            "Epoch 10/50: Train Loss = 0.4986, Test Loss = 0.5111, BER = 0.3096, MI = 0.1073\n",
            "Epoch 11/50: Train Loss = 0.4889, Test Loss = 0.5013, BER = 0.2975, MI = 0.1218\n",
            "Epoch 12/50: Train Loss = 0.4791, Test Loss = 0.4922, BER = 0.2845, MI = 0.1385\n",
            "Epoch 13/50: Train Loss = 0.4694, Test Loss = 0.4838, BER = 0.2769, MI = 0.1488\n",
            "Epoch 14/50: Train Loss = 0.4591, Test Loss = 0.4744, BER = 0.2649, MI = 0.1660\n",
            "Epoch 15/50: Train Loss = 0.4501, Test Loss = 0.4688, BER = 0.2689, MI = 0.1602\n",
            "Epoch 16/50: Train Loss = 0.4403, Test Loss = 0.4593, BER = 0.2562, MI = 0.1790\n",
            "Epoch 17/50: Train Loss = 0.4324, Test Loss = 0.4518, BER = 0.2560, MI = 0.1793\n",
            "Epoch 18/50: Train Loss = 0.4243, Test Loss = 0.4473, BER = 0.2532, MI = 0.1836\n",
            "Epoch 19/50: Train Loss = 0.4163, Test Loss = 0.4417, BER = 0.2520, MI = 0.1856\n",
            "Epoch 20/50: Train Loss = 0.4097, Test Loss = 0.4356, BER = 0.2505, MI = 0.1879\n",
            "Epoch 21/50: Train Loss = 0.4027, Test Loss = 0.4293, BER = 0.2430, MI = 0.2000\n",
            "Epoch 22/50: Train Loss = 0.3956, Test Loss = 0.4247, BER = 0.2440, MI = 0.1984\n",
            "Epoch 23/50: Train Loss = 0.3899, Test Loss = 0.4205, BER = 0.2371, MI = 0.2098\n",
            "Epoch 24/50: Train Loss = 0.3825, Test Loss = 0.4141, BER = 0.2244, MI = 0.2319\n",
            "Epoch 25/50: Train Loss = 0.3758, Test Loss = 0.4079, BER = 0.2216, MI = 0.2369\n",
            "Epoch 26/50: Train Loss = 0.3690, Test Loss = 0.4031, BER = 0.2161, MI = 0.2470\n",
            "Epoch 27/50: Train Loss = 0.3633, Test Loss = 0.4004, BER = 0.2110, MI = 0.2566\n",
            "Epoch 28/50: Train Loss = 0.3562, Test Loss = 0.3933, BER = 0.2031, MI = 0.2719\n",
            "Epoch 29/50: Train Loss = 0.3498, Test Loss = 0.3884, BER = 0.1978, MI = 0.2826\n",
            "Epoch 30/50: Train Loss = 0.3434, Test Loss = 0.3833, BER = 0.1918, MI = 0.2949\n",
            "Epoch 31/50: Train Loss = 0.3374, Test Loss = 0.3786, BER = 0.1874, MI = 0.3041\n",
            "Epoch 32/50: Train Loss = 0.3311, Test Loss = 0.3747, BER = 0.1870, MI = 0.3048\n",
            "Epoch 33/50: Train Loss = 0.3256, Test Loss = 0.3697, BER = 0.1814, MI = 0.3169\n",
            "Epoch 34/50: Train Loss = 0.3193, Test Loss = 0.3669, BER = 0.1771, MI = 0.3263\n",
            "Epoch 35/50: Train Loss = 0.3152, Test Loss = 0.3622, BER = 0.1760, MI = 0.3288\n",
            "Epoch 36/50: Train Loss = 0.3093, Test Loss = 0.3577, BER = 0.1703, MI = 0.3417\n",
            "Epoch 37/50: Train Loss = 0.3040, Test Loss = 0.3553, BER = 0.1708, MI = 0.3406\n",
            "Epoch 38/50: Train Loss = 0.2991, Test Loss = 0.3539, BER = 0.1673, MI = 0.3486\n",
            "Epoch 39/50: Train Loss = 0.2942, Test Loss = 0.3479, BER = 0.1646, MI = 0.3547\n",
            "Epoch 40/50: Train Loss = 0.2889, Test Loss = 0.3451, BER = 0.1645, MI = 0.3550\n",
            "Epoch 41/50: Train Loss = 0.2850, Test Loss = 0.3412, BER = 0.1610, MI = 0.3633\n",
            "Epoch 42/50: Train Loss = 0.2801, Test Loss = 0.3379, BER = 0.1571, MI = 0.3726\n",
            "Epoch 43/50: Train Loss = 0.2757, Test Loss = 0.3383, BER = 0.1601, MI = 0.3654\n",
            "Epoch 44/50: Train Loss = 0.2708, Test Loss = 0.3316, BER = 0.1557, MI = 0.3760\n",
            "Epoch 45/50: Train Loss = 0.2669, Test Loss = 0.3296, BER = 0.1534, MI = 0.3818\n",
            "Epoch 46/50: Train Loss = 0.2619, Test Loss = 0.3241, BER = 0.1497, MI = 0.3908\n",
            "Epoch 47/50: Train Loss = 0.2573, Test Loss = 0.3226, BER = 0.1465, MI = 0.3990\n",
            "Epoch 48/50: Train Loss = 0.2530, Test Loss = 0.3176, BER = 0.1485, MI = 0.3939\n",
            "Epoch 49/50: Train Loss = 0.2483, Test Loss = 0.3139, BER = 0.1399, MI = 0.4161\n",
            "Epoch 50/50: Train Loss = 0.2436, Test Loss = 0.3114, BER = 0.1388, MI = 0.4190\n",
            "Final Test BER: 0.1388, Mutual Information: 0.4190\n"
          ]
        }
      ]
    }
  ]
}